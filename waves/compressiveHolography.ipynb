{
  "cells": [
    {
      "cell_type": "markdown",
      "metadata": {
        "id": "view-in-github",
        "colab_type": "text"
      },
      "source": [
        "<a href=\"https://colab.research.google.com/github/djbradyAtOpticalSciencesArizona/computationalImaging/blob/master/waves/compressiveHolography.ipynb\" target=\"_parent\"><img src=\"https://colab.research.google.com/assets/colab-badge.svg\" alt=\"Open In Colab\"/></a>"
      ]
    },
    {
      "cell_type": "markdown",
      "metadata": {
        "id": "oMn1msqOPcD8"
      },
      "source": [
        "# Compressive Holography\n",
        "## David Brady\n",
        "## University of Arizona\n",
        "## June 2022"
      ]
    },
    {
      "cell_type": "markdown",
      "metadata": {
        "id": "aKc30EFFPm9P"
      },
      "source": [
        "This notebook considers compressive holographic imaging. As a specific example, we consider an object volume with thickness 1000 $\\lambda$. Assume the that the transverse pixel pitch in the volume is 5 $\\lambda$, meaning that the maximum lateral spatial frequency is $\\frac{1}{10\\lambda}$. At this spatial frequency, the longitudinal spatial frequency is $\\frac{\\sqrt{99}}{10\\lambda}$, so the longitudinal bandwidth is $\\approx \\frac{0.005}{\\lambda}$. Nyquist sampling along the longitudinal axis requries planes spaced by $100\\lambda$. Accordingly, we consider signals spread over 10 planes and caculate the diffracted field due to objects embedded at these planes. We then attempt to reconstruct the underlying object from the stack of diffraction planes. "
      ]
    },
    {
      "cell_type": "markdown",
      "metadata": {
        "id": "0bjgg2Ce3I6F"
      },
      "source": [
        "## libraries"
      ]
    },
    {
      "cell_type": "code",
      "execution_count": null,
      "metadata": {
        "id": "1A4WlJatWdwN"
      },
      "outputs": [],
      "source": [
        "import numpy as np\n",
        "import matplotlib as mpl\n",
        "import matplotlib.pyplot as plt\n",
        "import skimage\n",
        "import os\n",
        "from matplotlib import animation, rc\n",
        "from skimage import io\n",
        "from skimage import transform\n",
        "from skimage import filters\n",
        "%matplotlib inline\n",
        "plt.rcParams['figure.figsize'] = [20, 20]\n",
        "from google.colab import files\n",
        "import tensorflow as tf\n",
        "import tensorflow.keras as keras\n",
        "from tensorflow.keras import layers\n",
        "from tensorflow.keras.datasets import cifar10\n",
        "from tensorflow.keras.models import Model\n",
        "import cv2\n",
        "from keras.datasets import mnist\n",
        "import h5py\n",
        "import tensorflow_io as tfio\n"
      ]
    },
    {
      "cell_type": "code",
      "execution_count": null,
      "metadata": {
        "colab": {
          "base_uri": "https://localhost:8080/",
          "height": 191
        },
        "id": "c1Fu3QjoFrzq",
        "outputId": "2c8eee5a-4529-4013-c1d0-040e004d8692"
      },
      "outputs": [
        {
          "output_type": "stream",
          "name": "stdout",
          "text": [
            "Looking in indexes: https://pypi.org/simple, https://us-python.pkg.dev/colab-wheels/public/simple/\n",
            "Collecting tensorflow-io\n",
            "  Using cached tensorflow_io-0.26.0-cp37-cp37m-manylinux_2_12_x86_64.manylinux2010_x86_64.whl (25.9 MB)\n",
            "Installing collected packages: tensorflow-io\n",
            "Successfully installed tensorflow-io-0.26.0\n"
          ]
        },
        {
          "output_type": "display_data",
          "data": {
            "application/vnd.colab-display-data+json": {
              "pip_warning": {
                "packages": [
                  "tensorflow_io"
                ]
              }
            }
          },
          "metadata": {}
        }
      ],
      "source": [
        "pip install --no-deps tensorflow-io"
      ]
    },
    {
      "cell_type": "markdown",
      "metadata": {
        "id": "VknwSw3zMGBs"
      },
      "source": [
        "## Angular Spectrum Propagation"
      ]
    },
    {
      "cell_type": "code",
      "execution_count": null,
      "metadata": {
        "id": "gsS8G-4fYXM1"
      },
      "outputs": [],
      "source": [
        "def g(f,d,lam):\n",
        "#\n",
        "# calculate the diffracted field for the 2d image f propagated a distance d with wavelength relative to the pixel pitch lam\n",
        "# d is in units of wavelengths, lam is the ratio of the wavelength to the sampling period. We assume lam<< 1\n",
        "#\n",
        "  #zPad=int(np.abs(d*lam)/4)\n",
        "  #inF=np.zeros(np.add(f.shape,[zPad,zPad])).astype('cdouble')\n",
        "  #inF[int(inF.shape[0]/2-f.shape[0]/2):int(inF.shape[0]/2+f.shape[0]/2),int(inF.shape[0]/2-f.shape[0]/2):int(inF.shape[0]/2+f.shape[0]/2)]=f\n",
        "  inF=f\n",
        "  urange=np.linspace(-lam/2,lam/2,inF.shape[0])\n",
        "  u,v = np.meshgrid(urange,urange)\n",
        "  g=np.fft.ifft2(np.fft.fft2(inF)*np.fft.fftshift(np.exp(1j *2* np.pi *d*np.sqrt( 1 - u**2 - v**2))))\n",
        "  return g"
      ]
    },
    {
      "cell_type": "markdown",
      "metadata": {
        "id": "sJPgkmHD-l49"
      },
      "source": [
        "#### training and validation images"
      ]
    },
    {
      "cell_type": "code",
      "execution_count": null,
      "metadata": {
        "colab": {
          "base_uri": "https://localhost:8080/"
        },
        "id": "mPz4FTg0-yw-",
        "outputId": "7f86ecd0-d1fa-463c-cf0c-6cba841b38c3"
      },
      "outputs": [
        {
          "output_type": "stream",
          "name": "stdout",
          "text": [
            "Downloading data from https://storage.googleapis.com/tensorflow/tf-keras-datasets/mnist.npz\n",
            "11490434/11490434 [==============================] - 0s 0us/step\n"
          ]
        }
      ],
      "source": [
        "(x_train, y_train), (x_test, y_test) = mnist.load_data()\n",
        "x_train=x_train.astype(\"float32\")/255.0\n",
        "x_test=x_test.astype(\"float32\")/255.0"
      ]
    },
    {
      "cell_type": "markdown",
      "metadata": {
        "id": "9vP3FNOrDjmG"
      },
      "source": [
        "### Field distribution around objects."
      ]
    },
    {
      "cell_type": "markdown",
      "metadata": {
        "id": "rCb6h0NtI7xo"
      },
      "source": [
        "Here we assume that we can reconstruct the field at a set of depths around the true object. In the cell below we visualize the diffracted field around the true object position."
      ]
    },
    {
      "cell_type": "code",
      "execution_count": null,
      "metadata": {
        "colab": {
          "base_uri": "https://localhost:8080/",
          "height": 303
        },
        "id": "Ep0C4cNcD0NW",
        "outputId": "f4eec9e4-cbcc-4cc9-d7c2-96a8f8f44dc7"
      },
      "outputs": [
        {
          "output_type": "display_data",
          "data": {
            "text/plain": [
              "<IPython.core.display.Javascript object>"
            ],
            "application/javascript": [
              "\n",
              "    async function download(id, filename, size) {\n",
              "      if (!google.colab.kernel.accessAllowed) {\n",
              "        return;\n",
              "      }\n",
              "      const div = document.createElement('div');\n",
              "      const label = document.createElement('label');\n",
              "      label.textContent = `Downloading \"${filename}\": `;\n",
              "      div.appendChild(label);\n",
              "      const progress = document.createElement('progress');\n",
              "      progress.max = size;\n",
              "      div.appendChild(progress);\n",
              "      document.body.appendChild(div);\n",
              "\n",
              "      const buffers = [];\n",
              "      let downloaded = 0;\n",
              "\n",
              "      const channel = await google.colab.kernel.comms.open(id);\n",
              "      // Send a message to notify the kernel that we're ready.\n",
              "      channel.send({})\n",
              "\n",
              "      for await (const message of channel.messages) {\n",
              "        // Send a message to notify the kernel that we're ready.\n",
              "        channel.send({})\n",
              "        if (message.buffers) {\n",
              "          for (const buffer of message.buffers) {\n",
              "            buffers.push(buffer);\n",
              "            downloaded += buffer.byteLength;\n",
              "            progress.value = downloaded;\n",
              "          }\n",
              "        }\n",
              "      }\n",
              "      const blob = new Blob(buffers, {type: 'application/binary'});\n",
              "      const a = document.createElement('a');\n",
              "      a.href = window.URL.createObjectURL(blob);\n",
              "      a.download = filename;\n",
              "      div.appendChild(a);\n",
              "      a.click();\n",
              "      div.remove();\n",
              "    }\n",
              "  "
            ]
          },
          "metadata": {}
        },
        {
          "output_type": "display_data",
          "data": {
            "text/plain": [
              "<IPython.core.display.Javascript object>"
            ],
            "application/javascript": [
              "download(\"download_0100c303-4cc9-4b6f-a5a2-027c4e0ef80b\", \"diffuseObjectDiffraction.pdf\", 17584)"
            ]
          },
          "metadata": {}
        },
        {
          "output_type": "display_data",
          "data": {
            "text/plain": [
              "<Figure size 2160x360 with 5 Axes>"
            ],
            "image/png": "[encoded data removed]"
          },
          "metadata": {
            "needs_background": "light"
          }
        }
      ],
      "source": [
        "\n",
        "plt.figure(figsize=(30, 5))\n",
        "N=64\n",
        "zplanes=5\n",
        "lam=.2 # ratio of wavelength to the sampling period\n",
        "f=np.zeros([N,N]).astype('cdouble')\n",
        "# insert the mnist image in the center of the field\n",
        "z=np.random.randint(0,zplanes)\n",
        "for i in range(0,zplanes):\n",
        "    ax = plt.subplot(1, zplanes, i+1)\n",
        "    f[int(N/2-14):int(N/2+14),int(N/2-14):int(N/2+14)]=np.exp(2*np.pi*1j*np.random.random((28,28)))*x_test[32,:,:]\n",
        "    q=g(f,(i-z)*100,lam)\n",
        "    plt.imshow(np.abs(q))\n",
        "    plt.gray()\n",
        "    ax.get_xaxis().set_visible(False)\n",
        "    ax.get_yaxis().set_visible(False)\n",
        "plt.savefig('diffuseObjectDiffraction.pdf')\n",
        "files.download('diffuseObjectDiffraction.pdf')\n"
      ]
    },
    {
      "cell_type": "markdown",
      "metadata": {
        "id": "GcC_l2VOH2g3"
      },
      "source": [
        "## Decompressive Estimation"
      ]
    },
    {
      "cell_type": "markdown",
      "metadata": {
        "id": "xxD1sNCWINGm"
      },
      "source": [
        "We assume that the diffracted field is known over the object volume. The goal of decompressive inference is to estimate the 3D object from the field it produces. Here we use the magnitude and real part of the field at 9 planes in the volume to recover the object. "
      ]
    },
    {
      "cell_type": "code",
      "execution_count": null,
      "metadata": {
        "id": "Ly1V59jpAEqI"
      },
      "outputs": [],
      "source": [
        "\n",
        "N=64\n",
        "zplanes=5\n",
        "lam=.2 # ratio of wavelength to the sampling period\n",
        "f=np.zeros([N,N]).astype('cdouble')\n",
        "g_test=np.zeros((len(x_test),N,N,zplanes))\n",
        "f_test=np.zeros((len(x_test),N,N,zplanes))\n",
        "# generation of test inputs\n",
        "for pop in range(np.shape(x_test)[0]):\n",
        "  z=np.random.randint(0,zplanes)\n",
        "  f_test[pop,int(N/2-14):int(N/2+14),int(N/2-14):int(N/2+14),z]=x_test[pop,:,:]\n",
        "  for i in range(0, zplanes):\n",
        "    f[int(N/2-14):int(N/2+14),int(N/2-14):int(N/2+14)]=np.exp(2*np.pi*1j*np.random.random((28,28)))*x_test[pop,:,:]\n",
        "    g_test[pop,:,:,i]=np.abs(g(f,(i-z)*100,lam))\n",
        "with h5py.File('dataset_CompressiveHoloTest.hdf5', 'w') as hf:\n",
        "    dset_g_test = hf.create_dataset('g_test', data=g_test, shape=g_test.shape, compression='gzip', chunks=True)\n",
        "    dset_f_train = hf.create_dataset('f_test', data=f_test, shape=f_test.shape, compression='gzip', chunks=True)\n",
        "del(g_test)\n",
        "del(f_test)\n",
        "g_train=np.zeros((len(x_train),N,N,zplanes))\n",
        "f_train=np.zeros((len(x_train),N,N,zplanes))\n",
        "# generation of training inputs\n",
        "for pop in range(np.shape(x_train)[0]):\n",
        "  z=np.random.randint(0,zplanes)\n",
        "  f_train[pop,int(N/2-14):int(N/2+14),int(N/2-14):int(N/2+14),z]=x_train[pop,:,:]\n",
        "  for i in range(0, zplanes):\n",
        "    f[int(N/2-14):int(N/2+14),int(N/2-14):int(N/2+14)]=np.exp(2*np.pi*1j*np.random.random((28,28)))*x_train[pop,:,:]\n",
        "    g_train[pop,:,:,i]=np.abs(g(f,(i-z)*100,lam))\n",
        "with h5py.File('dataset_CompressiveHoloTrain.hdf5', 'w') as hf:\n",
        "    dset_g_train = hf.create_dataset('g_train', data=g_train, shape=g_train.shape, compression='gzip', chunks=True)\n",
        "    dset_f_train = hf.create_dataset('f_train', data=f_train, shape=f_train.shape, compression='gzip', chunks=True)\n",
        "del(g_train)\n",
        "del(f_train)"
      ]
    },
    {
      "cell_type": "code",
      "execution_count": null,
      "metadata": {
        "colab": {
          "base_uri": "https://localhost:8080/"
        },
        "id": "B_RQyiykKWFI",
        "outputId": "d357bb59-303a-4b9f-d900-865bc93f2abb"
      },
      "outputs": [
        {
          "name": "stdout",
          "output_type": "stream",
          "text": [
            "Mounted at /content/drive\n"
          ]
        }
      ],
      "source": [
        "from google.colab import drive\n",
        "drive.mount('/content/drive')"
      ]
    },
    {
      "cell_type": "code",
      "execution_count": null,
      "metadata": {
        "colab": {
          "background_save": true
        },
        "id": "0pChIXI-KhA8"
      },
      "outputs": [],
      "source": [
        "#%cp *.hdf5 drive/MyDrive/Research/\n",
        "%cp  drive/MyDrive/Research/*.hdf5 ."
      ]
    },
    {
      "cell_type": "code",
      "execution_count": null,
      "metadata": {
        "colab": {
          "base_uri": "https://localhost:8080/"
        },
        "id": "bN7OC-Ev-Pgs",
        "outputId": "aa3c04ae-03f4-44b8-f9dc-e8cc69fa4ecc"
      },
      "outputs": [
        {
          "output_type": "stream",
          "name": "stdout",
          "text": [
            "dataset_CompressiveHoloTest.hdf5   drive\n",
            "dataset_CompressiveHoloTrain.hdf5  sample_data\n"
          ]
        }
      ],
      "source": [
        "!ls"
      ]
    },
    {
      "cell_type": "code",
      "execution_count": null,
      "metadata": {
        "id": "9qLsyLTI-tr5"
      },
      "outputs": [],
      "source": [
        "\n",
        "BATCH_SIZE = 128\n",
        "EPOCHS = 20\n",
        "\n",
        "# Create an IODataset from a hdf5 file's dataset object  \n",
        "g_train = tfio.IODataset.from_hdf5(\"dataset_CompressiveHoloTrain.hdf5\",dataset='/g_train')\n",
        "f_train = tfio.IODataset.from_hdf5(\"dataset_CompressiveHoloTrain.hdf5\",dataset='/f_train')\n",
        "g_test = tfio.IODataset.from_hdf5(\"dataset_CompressiveHoloTest.hdf5\",dataset='/g_test')\n",
        "f_test = tfio.IODataset.from_hdf5(\"dataset_CompressiveHoloTest.hdf5\",dataset='/f_test')\n",
        " \n",
        "# Zip together samples and corresponding labels\n",
        "train = tf.data.Dataset.zip((g_train,f_train)).batch(BATCH_SIZE, drop_remainder=True).prefetch(tf.data.experimental.AUTOTUNE)\n",
        "test = tf.data.Dataset.zip((g_test,f_test)).batch(BATCH_SIZE, drop_remainder=True).prefetch(tf.data.experimental.AUTOTUNE)\n"
      ]
    },
    {
      "cell_type": "markdown",
      "metadata": {
        "id": "kMOZA19AOjbE"
      },
      "source": [
        "### Estimation Model"
      ]
    },
    {
      "cell_type": "code",
      "execution_count": null,
      "metadata": {
        "colab": {
          "base_uri": "https://localhost:8080/"
        },
        "id": "RVbCmRMPNTPH",
        "outputId": "76daa9f6-306d-45fd-9b07-244b2814fde9"
      },
      "outputs": [
        {
          "output_type": "stream",
          "name": "stdout",
          "text": [
            "Model: \"model_3\"\n",
            "_________________________________________________________________\n",
            " Layer (type)                Output Shape              Param #   \n",
            "=================================================================\n",
            " input_6 (InputLayer)        [(None, 64, 64, 5)]       0         \n",
            "                                                                 \n",
            " conv2d_15 (Conv2D)          (None, 64, 64, 32)        4032      \n",
            "                                                                 \n",
            " conv2d_16 (Conv2D)          (None, 32, 32, 64)        32832     \n",
            "                                                                 \n",
            " max_pooling2d_5 (MaxPooling  (None, 16, 16, 64)       0         \n",
            " 2D)                                                             \n",
            "                                                                 \n",
            " conv2d_17 (Conv2D)          (None, 16, 16, 64)        36928     \n",
            "                                                                 \n",
            " conv2d_transpose_25 (Conv2D  (None, 32, 32, 64)       36928     \n",
            " Transpose)                                                      \n",
            "                                                                 \n",
            " conv2d_transpose_26 (Conv2D  (None, 64, 64, 32)       18464     \n",
            " Transpose)                                                      \n",
            "                                                                 \n",
            " conv2d_transpose_27 (Conv2D  (None, 64, 64, 16)       4624      \n",
            " Transpose)                                                      \n",
            "                                                                 \n",
            " conv2d_transpose_28 (Conv2D  (None, 64, 64, 16)       2320      \n",
            " Transpose)                                                      \n",
            "                                                                 \n",
            " conv2d_transpose_29 (Conv2D  (None, 64, 64, 5)        725       \n",
            " Transpose)                                                      \n",
            "                                                                 \n",
            "=================================================================\n",
            "Total params: 136,853\n",
            "Trainable params: 136,853\n",
            "Non-trainable params: 0\n",
            "_________________________________________________________________\n"
          ]
        }
      ],
      "source": [
        "\n",
        "inputs=keras.Input(shape=(64, 64, 5))\n",
        "\n",
        "# Encoder\n",
        "x = layers.Conv2D(32, (5, 5), strides=1, activation=\"relu\", padding=\"same\")(inputs)\n",
        "x = layers.Conv2D(64, (4, 4), strides=2, activation=\"relu\", padding=\"same\")(x)\n",
        "x = layers.MaxPooling2D((2, 2), padding='same')(x)\n",
        "x = layers.Conv2D(64, (3, 3), strides=1, activation=\"relu\", padding=\"same\")(x)\n",
        "\n",
        "\n",
        "# Decoder\n",
        "x = layers.Conv2DTranspose(64, (3, 3), strides=2, activation=\"relu\", padding=\"same\")(x)\n",
        "x = layers.Conv2DTranspose(32, (3, 3), strides=2, activation=\"relu\", padding=\"same\")(x)\n",
        "x = layers.Conv2DTranspose(16, (3, 3), strides=1, activation=\"relu\", padding=\"same\")(x)\n",
        "x = layers.Conv2DTranspose(16, (3, 3), activation=\"relu\", padding=\"same\")(x)\n",
        "x = layers.Conv2DTranspose(5, (3, 3), activation=\"linear\", padding=\"same\")(x)\n",
        "\n",
        "\n",
        "chEstimator = keras.Model(inputs, x)\n",
        "\n",
        "\n",
        "chEstimator.compile(optimizer='adam', loss='mean_squared_error')\n",
        "chEstimator.summary()"
      ]
    },
    {
      "cell_type": "markdown",
      "metadata": {
        "id": "iOdXZX2TO_dr"
      },
      "source": [
        "### training"
      ]
    },
    {
      "cell_type": "code",
      "execution_count": null,
      "metadata": {
        "colab": {
          "base_uri": "https://localhost:8080/",
          "height": 1000
        },
        "id": "dceuvvUDPA91",
        "outputId": "3f148f61-9f5e-4f5e-f32e-70adfda498bc"
      },
      "outputs": [
        {
          "output_type": "stream",
          "name": "stdout",
          "text": [
            "Epoch 1/20\n"
          ]
        },
        {
          "output_type": "error",
          "ename": "UnimplementedError",
          "evalue": "ignored",
          "traceback": [
            "\u001b[0;31m---------------------------------------------------------------------------\u001b[0m",
            "\u001b[0;31mUnimplementedError\u001b[0m                        Traceback (most recent call last)",
            "\u001b[0;32m<ipython-input-17-88e9b73b015b>\u001b[0m in \u001b[0;36m<module>\u001b[0;34m()\u001b[0m\n\u001b[1;32m      4\u001b[0m     \u001b[0mepochs\u001b[0m\u001b[0;34m=\u001b[0m\u001b[0;36m20\u001b[0m\u001b[0;34m,\u001b[0m\u001b[0;34m\u001b[0m\u001b[0;34m\u001b[0m\u001b[0m\n\u001b[1;32m      5\u001b[0m     \u001b[0mbatch_size\u001b[0m\u001b[0;34m=\u001b[0m\u001b[0;36m128\u001b[0m\u001b[0;34m,\u001b[0m\u001b[0;34m\u001b[0m\u001b[0;34m\u001b[0m\u001b[0m\n\u001b[0;32m----> 6\u001b[0;31m     shuffle=True)\n\u001b[0m\u001b[1;32m      7\u001b[0m \u001b[0;31m#    validation_data=test)\u001b[0m\u001b[0;34m\u001b[0m\u001b[0;34m\u001b[0m\u001b[0;34m\u001b[0m\u001b[0m\n",
            "\u001b[0;32m/usr/local/lib/python3.7/dist-packages/keras/utils/traceback_utils.py\u001b[0m in \u001b[0;36merror_handler\u001b[0;34m(*args, **kwargs)\u001b[0m\n\u001b[1;32m     65\u001b[0m     \u001b[0;32mexcept\u001b[0m \u001b[0mException\u001b[0m \u001b[0;32mas\u001b[0m \u001b[0me\u001b[0m\u001b[0;34m:\u001b[0m  \u001b[0;31m# pylint: disable=broad-except\u001b[0m\u001b[0;34m\u001b[0m\u001b[0;34m\u001b[0m\u001b[0m\n\u001b[1;32m     66\u001b[0m       \u001b[0mfiltered_tb\u001b[0m \u001b[0;34m=\u001b[0m \u001b[0m_process_traceback_frames\u001b[0m\u001b[0;34m(\u001b[0m\u001b[0me\u001b[0m\u001b[0;34m.\u001b[0m\u001b[0m__traceback__\u001b[0m\u001b[0;34m)\u001b[0m\u001b[0;34m\u001b[0m\u001b[0;34m\u001b[0m\u001b[0m\n\u001b[0;32m---> 67\u001b[0;31m       \u001b[0;32mraise\u001b[0m \u001b[0me\u001b[0m\u001b[0;34m.\u001b[0m\u001b[0mwith_traceback\u001b[0m\u001b[0;34m(\u001b[0m\u001b[0mfiltered_tb\u001b[0m\u001b[0;34m)\u001b[0m \u001b[0;32mfrom\u001b[0m \u001b[0;32mNone\u001b[0m\u001b[0;34m\u001b[0m\u001b[0;34m\u001b[0m\u001b[0m\n\u001b[0m\u001b[1;32m     68\u001b[0m     \u001b[0;32mfinally\u001b[0m\u001b[0;34m:\u001b[0m\u001b[0;34m\u001b[0m\u001b[0;34m\u001b[0m\u001b[0m\n\u001b[1;32m     69\u001b[0m       \u001b[0;32mdel\u001b[0m \u001b[0mfiltered_tb\u001b[0m\u001b[0;34m\u001b[0m\u001b[0;34m\u001b[0m\u001b[0m\n",
            "\u001b[0;32m/usr/local/lib/python3.7/dist-packages/tensorflow/python/eager/execute.py\u001b[0m in \u001b[0;36mquick_execute\u001b[0;34m(op_name, num_outputs, inputs, attrs, ctx, name)\u001b[0m\n\u001b[1;32m     53\u001b[0m     \u001b[0mctx\u001b[0m\u001b[0;34m.\u001b[0m\u001b[0mensure_initialized\u001b[0m\u001b[0;34m(\u001b[0m\u001b[0;34m)\u001b[0m\u001b[0;34m\u001b[0m\u001b[0;34m\u001b[0m\u001b[0m\n\u001b[1;32m     54\u001b[0m     tensors = pywrap_tfe.TFE_Py_Execute(ctx._handle, device_name, op_name,\n\u001b[0;32m---> 55\u001b[0;31m                                         inputs, attrs, num_outputs)\n\u001b[0m\u001b[1;32m     56\u001b[0m   \u001b[0;32mexcept\u001b[0m \u001b[0mcore\u001b[0m\u001b[0;34m.\u001b[0m\u001b[0m_NotOkStatusException\u001b[0m \u001b[0;32mas\u001b[0m \u001b[0me\u001b[0m\u001b[0;34m:\u001b[0m\u001b[0;34m\u001b[0m\u001b[0;34m\u001b[0m\u001b[0m\n\u001b[1;32m     57\u001b[0m     \u001b[0;32mif\u001b[0m \u001b[0mname\u001b[0m \u001b[0;32mis\u001b[0m \u001b[0;32mnot\u001b[0m \u001b[0;32mNone\u001b[0m\u001b[0;34m:\u001b[0m\u001b[0;34m\u001b[0m\u001b[0;34m\u001b[0m\u001b[0m\n",
            "\u001b[0;31mUnimplementedError\u001b[0m: Graph execution error:\n\nDetected at node 'model_1/conv2d_3/Conv2D' defined at (most recent call last):\n    File \"/usr/lib/python3.7/runpy.py\", line 193, in _run_module_as_main\n      \"__main__\", mod_spec)\n    File \"/usr/lib/python3.7/runpy.py\", line 85, in _run_code\n      exec(code, run_globals)\n    File \"/usr/local/lib/python3.7/dist-packages/ipykernel_launcher.py\", line 16, in <module>\n      app.launch_new_instance()\n    File \"/usr/local/lib/python3.7/dist-packages/traitlets/config/application.py\", line 846, in launch_instance\n      app.start()\n    File \"/usr/local/lib/python3.7/dist-packages/ipykernel/kernelapp.py\", line 499, in start\n      self.io_loop.start()\n    File \"/usr/local/lib/python3.7/dist-packages/tornado/platform/asyncio.py\", line 132, in start\n      self.asyncio_loop.run_forever()\n    File \"/usr/lib/python3.7/asyncio/base_events.py\", line 541, in run_forever\n      self._run_once()\n    File \"/usr/lib/python3.7/asyncio/base_events.py\", line 1786, in _run_once\n      handle._run()\n    File \"/usr/lib/python3.7/asyncio/events.py\", line 88, in _run\n      self._context.run(self._callback, *self._args)\n    File \"/usr/local/lib/python3.7/dist-packages/tornado/platform/asyncio.py\", line 122, in _handle_events\n      handler_func(fileobj, events)\n    File \"/usr/local/lib/python3.7/dist-packages/tornado/stack_context.py\", line 300, in null_wrapper\n      return fn(*args, **kwargs)\n    File \"/usr/local/lib/python3.7/dist-packages/zmq/eventloop/zmqstream.py\", line 577, in _handle_events\n      self._handle_recv()\n    File \"/usr/local/lib/python3.7/dist-packages/zmq/eventloop/zmqstream.py\", line 606, in _handle_recv\n      self._run_callback(callback, msg)\n    File \"/usr/local/lib/python3.7/dist-packages/zmq/eventloop/zmqstream.py\", line 556, in _run_callback\n      callback(*args, **kwargs)\n    File \"/usr/local/lib/python3.7/dist-packages/tornado/stack_context.py\", line 300, in null_wrapper\n      return fn(*args, **kwargs)\n    File \"/usr/local/lib/python3.7/dist-packages/ipykernel/kernelbase.py\", line 283, in dispatcher\n      return self.dispatch_shell(stream, msg)\n    File \"/usr/local/lib/python3.7/dist-packages/ipykernel/kernelbase.py\", line 233, in dispatch_shell\n      handler(stream, idents, msg)\n    File \"/usr/local/lib/python3.7/dist-packages/ipykernel/kernelbase.py\", line 399, in execute_request\n      user_expressions, allow_stdin)\n    File \"/usr/local/lib/python3.7/dist-packages/ipykernel/ipkernel.py\", line 208, in do_execute\n      res = shell.run_cell(code, store_history=store_history, silent=silent)\n    File \"/usr/local/lib/python3.7/dist-packages/ipykernel/zmqshell.py\", line 537, in run_cell\n      return super(ZMQInteractiveShell, self).run_cell(*args, **kwargs)\n    File \"/usr/local/lib/python3.7/dist-packages/IPython/core/interactiveshell.py\", line 2718, in run_cell\n      interactivity=interactivity, compiler=compiler, result=result)\n    File \"/usr/local/lib/python3.7/dist-packages/IPython/core/interactiveshell.py\", line 2828, in run_ast_nodes\n      if self.run_code(code, result):\n    File \"/usr/local/lib/python3.7/dist-packages/IPython/core/interactiveshell.py\", line 2882, in run_code\n      exec(code_obj, self.user_global_ns, self.user_ns)\n    File \"<ipython-input-17-88e9b73b015b>\", line 6, in <module>\n      shuffle=True)\n    File \"/usr/local/lib/python3.7/dist-packages/keras/utils/traceback_utils.py\", line 64, in error_handler\n      return fn(*args, **kwargs)\n    File \"/usr/local/lib/python3.7/dist-packages/keras/engine/training.py\", line 1409, in fit\n      tmp_logs = self.train_function(iterator)\n    File \"/usr/local/lib/python3.7/dist-packages/keras/engine/training.py\", line 1051, in train_function\n      return step_function(self, iterator)\n    File \"/usr/local/lib/python3.7/dist-packages/keras/engine/training.py\", line 1040, in step_function\n      outputs = model.distribute_strategy.run(run_step, args=(data,))\n    File \"/usr/local/lib/python3.7/dist-packages/keras/engine/training.py\", line 1030, in run_step\n      outputs = model.train_step(data)\n    File \"/usr/local/lib/python3.7/dist-packages/keras/engine/training.py\", line 889, in train_step\n      y_pred = self(x, training=True)\n    File \"/usr/local/lib/python3.7/dist-packages/keras/utils/traceback_utils.py\", line 64, in error_handler\n      return fn(*args, **kwargs)\n    File \"/usr/local/lib/python3.7/dist-packages/keras/engine/training.py\", line 490, in __call__\n      return super().__call__(*args, **kwargs)\n    File \"/usr/local/lib/python3.7/dist-packages/keras/utils/traceback_utils.py\", line 64, in error_handler\n      return fn(*args, **kwargs)\n    File \"/usr/local/lib/python3.7/dist-packages/keras/engine/base_layer.py\", line 1014, in __call__\n      outputs = call_fn(inputs, *args, **kwargs)\n    File \"/usr/local/lib/python3.7/dist-packages/keras/utils/traceback_utils.py\", line 92, in error_handler\n      return fn(*args, **kwargs)\n    File \"/usr/local/lib/python3.7/dist-packages/keras/engine/functional.py\", line 459, in call\n      inputs, training=training, mask=mask)\n    File \"/usr/local/lib/python3.7/dist-packages/keras/engine/functional.py\", line 596, in _run_internal_graph\n      outputs = node.layer(*args, **kwargs)\n    File \"/usr/local/lib/python3.7/dist-packages/keras/utils/traceback_utils.py\", line 64, in error_handler\n      return fn(*args, **kwargs)\n    File \"/usr/local/lib/python3.7/dist-packages/keras/engine/base_layer.py\", line 1014, in __call__\n      outputs = call_fn(inputs, *args, **kwargs)\n    File \"/usr/local/lib/python3.7/dist-packages/keras/utils/traceback_utils.py\", line 92, in error_handler\n      return fn(*args, **kwargs)\n    File \"/usr/local/lib/python3.7/dist-packages/keras/layers/convolutional/base_conv.py\", line 250, in call\n      outputs = self.convolution_op(inputs, self.kernel)\n    File \"/usr/local/lib/python3.7/dist-packages/keras/layers/convolutional/base_conv.py\", line 232, in convolution_op\n      name=self.__class__.__name__)\nNode: 'model_1/conv2d_3/Conv2D'\nDNN library is not found.\n\t [[{{node model_1/conv2d_3/Conv2D}}]] [Op:__inference_train_function_4445]"
          ]
        }
      ],
      "source": [
        "\n",
        "chEstimator.fit(\n",
        "   train,\n",
        "    epochs=20,\n",
        "    batch_size=128,\n",
        "    shuffle=True, validation_data=test)"
      ]
    },
    {
      "cell_type": "code",
      "execution_count": null,
      "metadata": {
        "id": "jatiCRIeRL4z"
      },
      "outputs": [],
      "source": [
        ""
      ]
    }
  ],
  "metadata": {
    "accelerator": "GPU",
    "colab": {
      "collapsed_sections": [],
      "machine_shape": "hm",
      "name": "compressiveHolography.ipynb",
      "provenance": [],
      "include_colab_link": true
    },
    "gpuClass": "standard",
    "kernelspec": {
      "display_name": "Python 3",
      "name": "python3"
    }
  },
  "nbformat": 4,
  "nbformat_minor": 0
}