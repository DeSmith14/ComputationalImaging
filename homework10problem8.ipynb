{
  "nbformat": 4,
  "nbformat_minor": 0,
  "metadata": {
    "colab": {
      "name": "homework10problem8.ipynb",
      "provenance": [],
      "collapsed_sections": [],
      "authorship_tag": "ABX9TyOGiKsdCNQTn0nW11Ow5KKo",
      "include_colab_link": true
    },
    "kernelspec": {
      "name": "python3",
      "display_name": "Python 3"
    }
  },
  "cells": [
    {
      "cell_type": "markdown",
      "metadata": {
        "id": "view-in-github",
        "colab_type": "text"
      },
      "source": [
        "<a href=\"https://colab.research.google.com/github/djbrady/computationalImaging/blob/master/homework10problem8.ipynb\" target=\"_parent\"><img src=\"https://colab.research.google.com/assets/colab-badge.svg\" alt=\"Open In Colab\"/></a>"
      ]
    },
    {
      "cell_type": "markdown",
      "metadata": {
        "id": "y5mHmBShyaHa"
      },
      "source": [
        "# ECE 270 Fields and Waves\n",
        "# Fall 2020\n",
        "# quantum mechanics\n",
        "# solution to homework 10 problem 8\n",
        "## David Brady"
      ]
    },
    {
      "cell_type": "markdown",
      "metadata": {
        "id": "j1KHyXRNyt_g"
      },
      "source": [
        "## Initialization"
      ]
    },
    {
      "cell_type": "code",
      "metadata": {
        "id": "1A4WlJatWdwN"
      },
      "source": [
        "import numpy as np\n",
        "import matplotlib as mpl\n",
        "import matplotlib.pyplot as plt\n",
        "%matplotlib inline\n",
        "plt.rcParams['figure.figsize'] = [20, 10]\n",
        "from scipy.optimize import fsolve\n",
        "\n",
        "\n"
      ],
      "execution_count": 1,
      "outputs": []
    },
    {
      "cell_type": "markdown",
      "metadata": {
        "id": "QW0NQEZ2y0VO"
      },
      "source": [
        "# Transmittance of a square barrier\n",
        "According to Tamvakis Eqn. (3.62), the probability of tunneling through a barrier of height $V_o$ extending from $-L$ to $L$ is  \n",
        "$$ \\tau =\\left \\lbrack  1+ {\\sinh^2 \\left ( 2\\beta \\sqrt{1- {E\\over V_o}}\\right )\\over 4 \\left (1 -{E\\over V_o}\\right ){E\\over V_o}}\\right \\rbrack^{-1} $$\n",
        "where \n",
        "$$\n",
        "\\beta = \\sqrt{{2m V_oL^2\\over \\hbar^2}}$$\n",
        "\n",
        "\n",
        "$m=9.1\\times 10^{-31}$ Kg, $V= 2 $ keV. We know\n",
        "$\\hbar = 1.05\\times 10^{-34}$ m$^2$kg/s. $\\frac{E}{V}=0.5$"
      ]
    },
    {
      "cell_type": "code",
      "metadata": {
        "id": "Iu05emNfJ37K"
      },
      "source": [
        "m=9.1*np.power(10.,-31); #kg\n",
        "V= 2*1.6*np.power(10.,-16); # joules\n",
        "hbar= 1.05*np.power(10.,-34);\n",
        "beta=np.sqrt(2.*m*V/(hbar*hbar));\n",
        "E=0.5;\n",
        "def tau(L): # E in electron volts, L in pm\n",
        "  t=np.power(np.sinh(2.*beta*L*np.power(10.,-12)*np.sqrt(1-E)),2)/(4.*E*(1-E));\n",
        "  t=1./(1.+t);\n",
        "  return t\n"
      ],
      "execution_count": 2,
      "outputs": []
    },
    {
      "cell_type": "code",
      "metadata": {
        "id": "4e8Bk7DEaMrt",
        "colab": {
          "base_uri": "https://localhost:8080/",
          "height": 314
        },
        "outputId": "98373a96-497c-4d1f-89e5-06e4c43a46df"
      },
      "source": [
        "L=np.linspace(.1,10,1000);\n",
        "fig = plt.figure()\n",
        "plt.plot(L,tau(L));\n",
        "plt.xlabel('length (pm)',fontsize=24)\n",
        "plt.ylabel('transmitted power',fontsize=24)\n",
        "plt.grid(linestyle='--')\n",
        "plt.ylim(0, 1)"
      ],
      "execution_count": 3,
      "outputs": [
        {
          "output_type": "execute_result",
          "data": {
            "text/plain": [
              "(0.0, 1.0)"
            ]
          },
          "metadata": {
            "tags": []
          },
          "execution_count": 3
        },
        {
          "output_type": "display_data",
          "data": {
            "image/png": "[encoded data removed]",
            "text/plain": [
              "<Figure size 432x288 with 1 Axes>"
            ]
          },
          "metadata": {
            "tags": [],
            "needs_background": "light"
          }
        }
      ]
    },
    {
      "cell_type": "code",
      "metadata": {
        "id": "Q3R6NrOqJHJl",
        "colab": {
          "base_uri": "https://localhost:8080/"
        },
        "outputId": "dea5729e-229b-400f-8055-177ea69230d6"
      },
      "source": [
        "func = lambda L : .1 - tau(L)\n",
        "tau_initial_guess = 6\n",
        "tau_solution = fsolve(func, tau_initial_guess)\n",
        "print(\"transmittance probability is 10 percent when L=%2.2f picometers, corresponding to a total barrier thickness of  2L=%2.2f picometers \" %(tau_solution, 2*tau_solution) )"
      ],
      "execution_count": 7,
      "outputs": [
        {
          "output_type": "stream",
          "text": [
            "transmittance probability is 10 percent when L=5.59 picometers, corresponding to a total barrier thickness of  2L=11.19 picometers \n"
          ],
          "name": "stdout"
        }
      ]
    },
    {
      "cell_type": "code",
      "metadata": {
        "colab": {
          "base_uri": "https://localhost:8080/"
        },
        "id": "860MnElwTGjp",
        "outputId": "abee03fb-ce49-40a3-c844-79f4e3b2f8f5"
      },
      "source": [
        "func = lambda L : .01 - tau(L)\n",
        "tau_initial_guess = 6\n",
        "tau_solution = fsolve(func, tau_initial_guess)\n",
        "print(\"transmittance probability is 1 percent when L=%2.2f picometers, corresponding to a total barrier thickness of  2L=%2.2f picometers \" %(tau_solution, 2*tau_solution) )"
      ],
      "execution_count": 8,
      "outputs": [
        {
          "output_type": "stream",
          "text": [
            "transmittance probability is 1 percent when L=9.21 picometers, corresponding to a total barrier thickness of  2L=18.42 picometers \n"
          ],
          "name": "stdout"
        }
      ]
    },
    {
      "cell_type": "code",
      "metadata": {
        "id": "nmdDYS6pUeu6"
      },
      "source": [
        ""
      ],
      "execution_count": null,
      "outputs": []
    }
  ]
}