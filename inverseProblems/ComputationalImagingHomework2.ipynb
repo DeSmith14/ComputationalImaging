{
  "nbformat": 4,
  "nbformat_minor": 0,
  "metadata": {
    "kernelspec": {
      "display_name": "Python 3",
      "language": "python",
      "name": "python3"
    },
    "language_info": {
      "codemirror_mode": {
        "name": "ipython",
        "version": 3
      },
      "file_extension": ".py",
      "mimetype": "text/x-python",
      "name": "python",
      "nbconvert_exporter": "python",
      "pygments_lexer": "ipython3",
      "version": "3.7.11"
    },
    "colab": {
      "name": "ComputationalImagingHomework2.ipynb",
      "provenance": [],
      "collapsed_sections": [],
      "include_colab_link": true
    }
  },
  "cells": [
    {
      "cell_type": "markdown",
      "metadata": {
        "id": "view-in-github",
        "colab_type": "text"
      },
      "source": [
        "<a href=\"https://colab.research.google.com/github/djbradyAtOpticalSciencesArizona/computationalImaging/blob/master/inverseProblems/ComputationalImagingHomework2.ipynb\" target=\"_parent\"><img src=\"https://colab.research.google.com/assets/colab-badge.svg\" alt=\"Open In Colab\"/></a>"
      ]
    },
    {
      "cell_type": "markdown",
      "metadata": {
        "id": "7JQZbcZQOeFH"
      },
      "source": [
        "# Computational Imaging\n",
        "### David J. Brady\n",
        "### University of Arizona\n",
        "\n",
        "### Homework 2\n"
      ]
    },
    {
      "cell_type": "markdown",
      "metadata": {
        "id": "LeZV4GMViddg"
      },
      "source": [
        "Your assignment for this week is to create notebook combining the various notebooks used to create figures in chapter 3 of our text. \n",
        "\n",
        "Figures 3.3, 3.6 and 3.8 compare Weiner, total variation and EM algorithms for image deblurring and denoising. Implement these algorithms for various types of blur and noise levels on images of our choice. Compare reconstructions with all three algorithms. Try Gaussian noise and also try (separately) Poisson noise assuming that the signal level is around 100 and then around 1000 photons per pixel. Try several different gaussian blur widths. Analyze the details of the reconstructions and also compare mean square error with original images. You should work with monochrome images for simplicity. \n",
        "\n",
        "Figures 3.4 and 3.5 compare ordinary least squares, truncated SVD, Tikhonov and LASSO reconstructions for sparse spectra. Repeat these simulations for several different spectra in the Chianti database using several different measurement matrices, including random, Hadamard and downsampling forward models. Try several different noise levels. Compare the performance of each of the regression algorithms for different measurement and noise models. \n",
        "\n",
        "Consider the demosiacing neural network described in Table 3.1. Train the network as described in the text. Try to find an app for your smart phone that allows recording of raw format images. If you are unable to do this, find some raw format images online. Try to demosaic these images using the neural network, compare your results with the phone's built in demosaicing algorithm. Try improving the network of table 3.1 by adding more layers or more convolutions per layer, train the network and compare results. Compare the neural demosaicing algorithm with demosiacing built into openCV, as in the text or with other demosaicing algorithms. The main point of this exercise is to gain experience training and using neural networks, so be sure to try several different variations on the network and trainng strategy. Discuss your experience training the network in your report. \n",
        "\n"
      ]
    },
    {
      "cell_type": "markdown",
      "metadata": {
        "id": "mprGgSlwQwYr"
      },
      "source": [
        "## Libraries"
      ]
    },
    {
      "cell_type": "code",
      "metadata": {
        "id": "0vm9S61cOWn2"
      },
      "source": [
        "%matplotlib inline\n",
        "import numpy as np\n",
        "import matplotlib.pyplot as plt\n",
        "from scipy.signal import convolve2d, convolve\n",
        "from skimage import color, data, restoration, exposure\n",
        "from skimage import io\n",
        "from google.colab import files\n",
        "plt.rcParams['figure.figsize'] = [20, 10]\n",
        "plt.rcParams.update({'font.size': 16})"
      ],
      "execution_count": null,
      "outputs": []
    }
  ]
}